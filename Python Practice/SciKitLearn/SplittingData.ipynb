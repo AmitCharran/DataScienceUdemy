{
 "cells": [
  {
   "cell_type": "code",
   "execution_count": 1,
   "metadata": {
    "collapsed": true
   },
   "outputs": [],
   "source": [
    "import numpy as np\n",
    "from sklearn.model_selection import train_test_split"
   ]
  },
  {
   "cell_type": "code",
   "execution_count": 2,
   "outputs": [
    {
     "data": {
      "text/plain": "array([  1,   2,   3,   4,   5,   6,   7,   8,   9,  10,  11,  12,  13,\n        14,  15,  16,  17,  18,  19,  20,  21,  22,  23,  24,  25,  26,\n        27,  28,  29,  30,  31,  32,  33,  34,  35,  36,  37,  38,  39,\n        40,  41,  42,  43,  44,  45,  46,  47,  48,  49,  50,  51,  52,\n        53,  54,  55,  56,  57,  58,  59,  60,  61,  62,  63,  64,  65,\n        66,  67,  68,  69,  70,  71,  72,  73,  74,  75,  76,  77,  78,\n        79,  80,  81,  82,  83,  84,  85,  86,  87,  88,  89,  90,  91,\n        92,  93,  94,  95,  96,  97,  98,  99, 100])"
     },
     "execution_count": 2,
     "metadata": {},
     "output_type": "execute_result"
    }
   ],
   "source": [
    "a = np.arange(1, 101)\n",
    "a"
   ],
   "metadata": {
    "collapsed": false,
    "pycharm": {
     "name": "#%% Generate Split\n"
    }
   }
  },
  {
   "cell_type": "code",
   "execution_count": 3,
   "outputs": [
    {
     "data": {
      "text/plain": "array([501, 502, 503, 504, 505, 506, 507, 508, 509, 510, 511, 512, 513,\n       514, 515, 516, 517, 518, 519, 520, 521, 522, 523, 524, 525, 526,\n       527, 528, 529, 530, 531, 532, 533, 534, 535, 536, 537, 538, 539,\n       540, 541, 542, 543, 544, 545, 546, 547, 548, 549, 550, 551, 552,\n       553, 554, 555, 556, 557, 558, 559, 560, 561, 562, 563, 564, 565,\n       566, 567, 568, 569, 570, 571, 572, 573, 574, 575, 576, 577, 578,\n       579, 580, 581, 582, 583, 584, 585, 586, 587, 588, 589, 590, 591,\n       592, 593, 594, 595, 596, 597, 598, 599, 600])"
     },
     "execution_count": 3,
     "metadata": {},
     "output_type": "execute_result"
    }
   ],
   "source": [
    "b = np.arange(501,601)\n",
    "b"
   ],
   "metadata": {
    "collapsed": false,
    "pycharm": {
     "name": "#%%\n"
    }
   }
  },
  {
   "cell_type": "code",
   "execution_count": 4,
   "outputs": [
    {
     "data": {
      "text/plain": "[array([ 35,  76,  27,  59,  63,  41,  40,  42,  10,  39,  72,  46,  54,\n         55,  83,  87,  92,  86,   4,  73,  50,   6,   8,  68,  66,  25,\n          2,   1,  19,  56,  29,  67,  11,  48,  85,  65,  45,  89,  14,\n         91,  16,  74,  12,  93,  71,  95,  62,  75,  34,  78,  20,  37,\n        100,  26,  81,  43,  33,  30,  94,  82,  36,  96,  24,   3,  77,\n         53,  47,  49,  22,  52,  58,   7,  17,  61,  60]),\n array([51, 84, 98, 44,  9, 79, 13, 32, 97, 18, 88, 28, 38,  5, 99, 64, 70,\n        15, 90, 21, 69, 80, 57, 31, 23])]"
     },
     "execution_count": 4,
     "metadata": {},
     "output_type": "execute_result"
    }
   ],
   "source": [
    "train_test_split(a)"
   ],
   "metadata": {
    "collapsed": false,
    "pycharm": {
     "name": "#%%\n"
    }
   }
  },
  {
   "cell_type": "code",
   "execution_count": 5,
   "outputs": [],
   "source": [
    "a_train, a_test = train_test_split(a)"
   ],
   "metadata": {
    "collapsed": false,
    "pycharm": {
     "name": "#%%\n"
    }
   }
  },
  {
   "cell_type": "code",
   "execution_count": 6,
   "outputs": [
    {
     "data": {
      "text/plain": "((75,), (25,))"
     },
     "execution_count": 6,
     "metadata": {},
     "output_type": "execute_result"
    }
   ],
   "source": [
    "a_train.shape, a_test.shape"
   ],
   "metadata": {
    "collapsed": false,
    "pycharm": {
     "name": "#%%\n"
    }
   }
  },
  {
   "cell_type": "code",
   "execution_count": 7,
   "outputs": [
    {
     "data": {
      "text/plain": "array([ 6, 56, 47, 67, 97, 38, 27, 71, 86, 80,  2, 45, 43, 51, 10, 42,  4,\n       25,  3, 14, 83, 89, 78, 17, 20, 63, 64, 34, 54, 22, 28, 13, 98, 61,\n       58, 79, 73, 57, 88, 92, 59, 35, 44, 32, 96, 40, 15, 18, 70, 85, 68,\n       36, 48, 41, 60, 65, 11, 52, 31, 12, 26, 82, 94, 95, 91, 49, 84, 37,\n       81, 74, 21, 29,  1,  5, 24])"
     },
     "execution_count": 7,
     "metadata": {},
     "output_type": "execute_result"
    }
   ],
   "source": [
    "a_train"
   ],
   "metadata": {
    "collapsed": false,
    "pycharm": {
     "name": "#%%\n"
    }
   }
  },
  {
   "cell_type": "code",
   "execution_count": 8,
   "outputs": [
    {
     "data": {
      "text/plain": "array([ 90,  30,  46, 100,   9,  87,   8,  62,  93,  19,  53,  50,  75,\n        39,  23,  76,  69,  66,  16,  72,  55,  99,  77,   7,  33])"
     },
     "execution_count": 8,
     "metadata": {},
     "output_type": "execute_result"
    }
   ],
   "source": [
    "a_test"
   ],
   "metadata": {
    "collapsed": false,
    "pycharm": {
     "name": "#%%\n"
    }
   }
  },
  {
   "cell_type": "code",
   "execution_count": 9,
   "outputs": [],
   "source": [
    "a_train, a_test = train_test_split(a, test_size=0.2, shuffle=False)"
   ],
   "metadata": {
    "collapsed": false,
    "pycharm": {
     "name": "#%%\n"
    }
   }
  },
  {
   "cell_type": "code",
   "execution_count": 10,
   "outputs": [
    {
     "data": {
      "text/plain": "array([ 1,  2,  3,  4,  5,  6,  7,  8,  9, 10, 11, 12, 13, 14, 15, 16, 17,\n       18, 19, 20, 21, 22, 23, 24, 25, 26, 27, 28, 29, 30, 31, 32, 33, 34,\n       35, 36, 37, 38, 39, 40, 41, 42, 43, 44, 45, 46, 47, 48, 49, 50, 51,\n       52, 53, 54, 55, 56, 57, 58, 59, 60, 61, 62, 63, 64, 65, 66, 67, 68,\n       69, 70, 71, 72, 73, 74, 75, 76, 77, 78, 79, 80])"
     },
     "execution_count": 10,
     "metadata": {},
     "output_type": "execute_result"
    }
   ],
   "source": [
    "a_train"
   ],
   "metadata": {
    "collapsed": false,
    "pycharm": {
     "name": "#%%\n"
    }
   }
  },
  {
   "cell_type": "code",
   "execution_count": 11,
   "outputs": [
    {
     "data": {
      "text/plain": "array([ 81,  82,  83,  84,  85,  86,  87,  88,  89,  90,  91,  92,  93,\n        94,  95,  96,  97,  98,  99, 100])"
     },
     "execution_count": 11,
     "metadata": {},
     "output_type": "execute_result"
    }
   ],
   "source": [
    "a_test"
   ],
   "metadata": {
    "collapsed": false,
    "pycharm": {
     "name": "#%%\n"
    }
   }
  },
  {
   "cell_type": "code",
   "execution_count": 12,
   "outputs": [],
   "source": [
    "a_train, a_test = train_test_split(a, test_size=0.2)\n"
   ],
   "metadata": {
    "collapsed": false,
    "pycharm": {
     "name": "#%%\n"
    }
   }
  },
  {
   "cell_type": "code",
   "execution_count": 13,
   "outputs": [
    {
     "data": {
      "text/plain": "array([ 10,  82,  36,  62,  39,  79,  21,  43,  78,  80,  22,  89,  75,\n        50,  66,  65,  60,  64,  67,  41,  84,  71,  52,  77,  26,  18,\n        95,  35,  29,  16,   2,  54,  76,  14,  94,  53,  91,  92,  24,\n        58,  40,   3,   1,  46,  38,  27,  72,  59,  83,  30,  28,  33,\n        31,  88,  51,  47,  70,  34,  19,  85,   8,  13,  15,  44,  48,\n         5,  98,  11,  23,  42, 100,  25,  69,   7,  55,   6,  61,  63,\n        81,  93])"
     },
     "execution_count": 13,
     "metadata": {},
     "output_type": "execute_result"
    }
   ],
   "source": [
    "a_train"
   ],
   "metadata": {
    "collapsed": false,
    "pycharm": {
     "name": "#%%\n"
    }
   }
  },
  {
   "cell_type": "code",
   "execution_count": 14,
   "outputs": [
    {
     "data": {
      "text/plain": "array([87, 90, 74,  4, 37,  9, 68, 45, 20, 57, 12, 56, 32, 96, 49, 73, 99,\n       17, 97, 86])"
     },
     "execution_count": 14,
     "metadata": {},
     "output_type": "execute_result"
    }
   ],
   "source": [
    "a_test"
   ],
   "metadata": {
    "collapsed": false,
    "pycharm": {
     "name": "#%%\n"
    }
   }
  },
  {
   "cell_type": "code",
   "execution_count": 16,
   "outputs": [],
   "source": [
    "a_train, a_test = train_test_split(a, test_size=0.2, random_state=42)\n",
    "# to keep the shuffle the same everytime it is rerun"
   ],
   "metadata": {
    "collapsed": false,
    "pycharm": {
     "name": "#%%\n"
    }
   }
  },
  {
   "cell_type": "code",
   "execution_count": 17,
   "outputs": [],
   "source": [
    "a_train, a_test, b_train, b_test = train_test_split(a, b, test_size=0.2, random_state = 353)"
   ],
   "metadata": {
    "collapsed": false,
    "pycharm": {
     "name": "#%%\n"
    }
   }
  },
  {
   "cell_type": "code",
   "execution_count": 18,
   "outputs": [
    {
     "data": {
      "text/plain": "(array([66, 79, 63, 88, 61, 95, 47, 51, 26, 80, 41,  8, 31,  3, 73, 13, 10,\n        85, 58, 87, 89, 83, 57, 46,  2, 45, 37, 97, 94, 62, 69,  9, 64, 11,\n        77, 76, 74, 59, 86, 48, 22, 19, 15,  4, 72, 32, 21, 27,  5, 18, 44,\n        33, 52, 56, 14, 20, 84, 49, 34, 16, 99, 98, 29, 23, 39, 71,  6, 42,\n        81, 60, 92, 40, 53, 93,  7, 82, 50, 54, 68, 12]),\n array([ 38,  70,  96,  67,  78,  75,   1, 100,  90,  43,  35,  65,  91,\n         30,  28,  25,  36,  17,  24,  55]),\n array([566, 579, 563, 588, 561, 595, 547, 551, 526, 580, 541, 508, 531,\n        503, 573, 513, 510, 585, 558, 587, 589, 583, 557, 546, 502, 545,\n        537, 597, 594, 562, 569, 509, 564, 511, 577, 576, 574, 559, 586,\n        548, 522, 519, 515, 504, 572, 532, 521, 527, 505, 518, 544, 533,\n        552, 556, 514, 520, 584, 549, 534, 516, 599, 598, 529, 523, 539,\n        571, 506, 542, 581, 560, 592, 540, 553, 593, 507, 582, 550, 554,\n        568, 512]),\n array([538, 570, 596, 567, 578, 575, 501, 600, 590, 543, 535, 565, 591,\n        530, 528, 525, 536, 517, 524, 555]))"
     },
     "execution_count": 18,
     "metadata": {},
     "output_type": "execute_result"
    }
   ],
   "source": [
    "a_train, a_test, b_train, b_test"
   ],
   "metadata": {
    "collapsed": false,
    "pycharm": {
     "name": "#%%\n"
    }
   }
  },
  {
   "cell_type": "code",
   "execution_count": null,
   "outputs": [],
   "source": [],
   "metadata": {
    "collapsed": false,
    "pycharm": {
     "name": "#%%\n"
    }
   }
  }
 ],
 "metadata": {
  "kernelspec": {
   "display_name": "Python 3",
   "language": "python",
   "name": "python3"
  },
  "language_info": {
   "codemirror_mode": {
    "name": "ipython",
    "version": 2
   },
   "file_extension": ".py",
   "mimetype": "text/x-python",
   "name": "python",
   "nbconvert_exporter": "python",
   "pygments_lexer": "ipython2",
   "version": "2.7.6"
  }
 },
 "nbformat": 4,
 "nbformat_minor": 0
}